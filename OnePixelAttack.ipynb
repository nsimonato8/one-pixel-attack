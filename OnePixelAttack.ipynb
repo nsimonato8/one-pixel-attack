{
 "cells": [
  {
   "cell_type": "markdown",
   "metadata": {
    "id": "X1U-fZCY4eix"
   },
   "source": [
    "# Project\n",
    "\n",
    "Tests:\n",
    " * [1.1]  Untargeted, DE, 1\n",
    " * [1.2]  Targeted, DE, 1\n",
    "---\n",
    "Measurements:\n",
    " * Confusion matrix (before | after)\n",
    " * Success rate (untargeted attacks)\n",
    " * One-vs-Rest multiclass ROC\n",
    "---\n",
    "Countermeasures:\n",
    " * Autoencoder for anomaly detection\n",
    " * "
   ]
  },
  {
   "cell_type": "markdown",
   "metadata": {
    "id": "D0AXrzQ94sAP"
   },
   "source": [
    "### Importing libraries & models"
   ]
  },
  {
   "cell_type": "code",
   "execution_count": null,
   "metadata": {
    "colab": {
     "base_uri": "https://localhost:8080/"
    },
    "id": "Avz6UlPEqJ3L",
    "outputId": "faa04915-1181-4b6f-beac-4f9a453dbb5c"
   },
   "outputs": [],
   "source": [
    "!pip install scipy"
   ]
  },
  {
   "cell_type": "code",
   "execution_count": null,
   "metadata": {
    "colab": {
     "base_uri": "https://localhost:8080/"
    },
    "id": "axR_g7-ItxFu",
    "outputId": "487475b5-5f27-4ca3-b4c0-750591ff2786"
   },
   "outputs": [],
   "source": [
    "# Import libraries\n",
    "from matplotlib import pyplot as plt\n",
    "import numpy as np\n",
    "import pandas as pd\n",
    "import tensorflow as tf\n",
    "import multiprocess as mp\n",
    "from datetime import datetime\n",
    "from attack import *\n",
    "from util import *\n",
    "import sys\n",
    "from sklearn.metrics import confusion_matrix, roc_curve\n",
    "import seaborn as sn\n",
    "import gc\n",
    "from scipy.optimize import differential_evolution\n",
    "import pickle\n",
    "import importlib\n",
    "\n",
    "# Print the version of tensorflow and keras\n",
    "print(\"TensorFlow version:{}\".format(tf.__version__))\n",
    "print(\"Matplotlib version:{}\".format(plt.__version__))\n",
    "print(\"Seaborn version:{}\".format(sn.__version__))"
   ]
  },
  {
   "cell_type": "markdown",
   "metadata": {
    "id": "wy8FqR-x4wj9"
   },
   "source": [
    "### Importing & Preprocessing images for testing"
   ]
  },
  {
   "cell_type": "code",
   "execution_count": null,
   "metadata": {
    "id": "dCdTcaP5Afqf"
   },
   "outputs": [],
   "source": [
    "(_, _), (x_test, y_test) = tf.keras.datasets.cifar10.load_data()"
   ]
  },
  {
   "cell_type": "code",
   "execution_count": null,
   "metadata": {},
   "outputs": [],
   "source": [
    "class_names = [\"airplane\",\"automobile\",\"bird\",\"cat\",\"deer\",\"dog\",\"frog\",\"horse\",\"ship\",\"truck\"]"
   ]
  },
  {
   "cell_type": "markdown",
   "metadata": {
    "id": "VopdWYIBu0EO"
   },
   "source": [
    "## Importing the models"
   ]
  },
  {
   "cell_type": "code",
   "execution_count": null,
   "metadata": {},
   "outputs": [],
   "source": [
    "tf.debugging.disable_traceback_filtering()"
   ]
  },
  {
   "cell_type": "code",
   "execution_count": null,
   "metadata": {},
   "outputs": [],
   "source": [
    "IMG_SHAPE = x_test[0].shape #+ (1,)"
   ]
  },
  {
   "cell_type": "code",
   "execution_count": null,
   "metadata": {
    "id": "-uSzynYAkOcQ"
   },
   "outputs": [],
   "source": [
    "model = tf.keras.models.load_model('models/opa_model_CNN.h5', compile=False)\n",
    "#model_vgg = tf.keras.models.load_model('models/opa_model_vgg16.keras')\n",
    "#model_resnet = tf.keras.models.load_model('models/opa_model_resnet50.keras')"
   ]
  },
  {
   "cell_type": "markdown",
   "metadata": {
    "id": "VJzPQC98wLbP"
   },
   "source": [
    "## Generating the adversarial samples\n",
    "\n",
    "Code made by [Hyperparticle](https://github.com/Hyperparticle)"
   ]
  },
  {
   "cell_type": "markdown",
   "metadata": {
    "id": "ZxnJSwIhqBeT"
   },
   "source": [
    "## Attacks"
   ]
  },
  {
   "cell_type": "code",
   "execution_count": null,
   "metadata": {},
   "outputs": [],
   "source": [
    "today = datetime.now().strftime('%Y-%m-%d')\n",
    "today = fr\"{today}\"\n",
    "!mkdir \"results/{today}\"\n",
    "print(today)"
   ]
  },
  {
   "cell_type": "code",
   "execution_count": null,
   "metadata": {},
   "outputs": [],
   "source": [
    "attack_parameters = {\n",
    "    'models': [model],\n",
    "    'n_samples': 100,\n",
    "    'mp': -1,\n",
    "    'maxiter': 600,\n",
    "    'popsize': 2000\n",
    "}"
   ]
  },
  {
   "cell_type": "markdown",
   "metadata": {},
   "source": [
    "### Preparing the samples"
   ]
  },
  {
   "cell_type": "code",
   "execution_count": null,
   "metadata": {},
   "outputs": [],
   "source": [
    "x_test_filtered, y_test_filtered = filter_valid_samples(model=model, x=x_test, y_true=y_test)"
   ]
  },
  {
   "cell_type": "code",
   "execution_count": null,
   "metadata": {},
   "outputs": [],
   "source": [
    "img_samples, label_samples = prepare_fair_samples(x=x_test_filtered, \n",
    "                                                  y=y_test_filtered, \n",
    "                                                  sample_size=attack_parameters['n_samples'],\n",
    "                                                  label_names=class_names)"
   ]
  },
  {
   "cell_type": "markdown",
   "metadata": {
    "id": "YKpdcjmTjjcX"
   },
   "source": [
    "### Untargeted attacks"
   ]
  },
  {
   "cell_type": "code",
   "execution_count": null,
   "metadata": {},
   "outputs": [],
   "source": [
    "%%capture\n",
    "t_start = datetime.now()\n",
    "untargeted_results = attack_all(models=attack_parameters['models'], \n",
    "                                       test=(img_samples, label_samples), \n",
    "                                       mp=attack_parameters['mp'], \n",
    "                                       target=None, \n",
    "                                       pixels=(1,), \n",
    "                                       maxiter=attack_parameters['maxiter'], \n",
    "                                       popsize=attack_parameters['popsize'], \n",
    "                                       verbose=False,\n",
    "                                       class_names=class_names)\n",
    "t_end = datetime.now()"
   ]
  },
  {
   "cell_type": "code",
   "execution_count": null,
   "metadata": {},
   "outputs": [],
   "source": [
    "with open(f\"results/{today}/untargeted_results_encoding\", \"wb\") as f:\n",
    "    pickle.dump(obj=untargeted_results, file=f)\n",
    "\n",
    "print(f\"Untargeted attack took: {t_end - t_start}\\n\\tTest start time: {t_start}\\n\\tTest end time: {t_end}\")\n",
    "untargeted_stats = attack_stats(untargeted_results, attack_parameters['models'])\n",
    "untargeted_stats.head(n=untargeted_stats.shape[0])"
   ]
  },
  {
   "cell_type": "markdown",
   "metadata": {
    "id": "9Q6_b7Ajjmeu"
   },
   "source": [
    "### Targeted attacks"
   ]
  },
  {
   "cell_type": "code",
   "execution_count": null,
   "metadata": {},
   "outputs": [],
   "source": [
    "%%capture\n",
    "t_start = datetime.now()\n",
    "targeted_results = attack_all(models=attack_parameters['models'], \n",
    "                               test=(img_samples, label_samples), \n",
    "                               mp=attack_parameters['mp'], \n",
    "                               target=1, \n",
    "                               pixels=(1,), \n",
    "                               maxiter=attack_parameters['maxiter'], \n",
    "                               popsize=attack_parameters['popsize'], \n",
    "                               verbose=False,\n",
    "                               class_names=class_names)\n",
    "t_end = datetime.now()"
   ]
  },
  {
   "cell_type": "code",
   "execution_count": null,
   "metadata": {},
   "outputs": [],
   "source": [
    "with open(f\"results/{today}/targeted_results_encoding\", \"wb\") as f:\n",
    "    pickle.dump(obj=targeted_results, file=f)\n",
    "\n",
    "print(f\"Targeted attack took: {t_end - t_start}\\n\\tTest start time: {t_start}\\n\\tTest end time: {t_end}\")\n",
    "targeted_stats = attack_stats(targeted_results, attack_parameters['models'])\n",
    "targeted_stats.head(n=targeted_stats.shape[0])"
   ]
  },
  {
   "cell_type": "markdown",
   "metadata": {
    "id": "v4h7haUHZglp"
   },
   "source": [
    "### Analysis of tests results'\n",
    "#### Preparation"
   ]
  },
  {
   "cell_type": "code",
   "execution_count": null,
   "metadata": {},
   "outputs": [],
   "source": [
    "imported_module = importlib.import_module(\"attack\")\n",
    "importlib.reload(imported_module)\n",
    "from attack import *"
   ]
  },
  {
   "cell_type": "code",
   "execution_count": null,
   "metadata": {},
   "outputs": [],
   "source": [
    "imported_module = importlib.import_module(\"util\")\n",
    "importlib.reload(imported_module)\n",
    "from util import *"
   ]
  },
  {
   "cell_type": "code",
   "execution_count": null,
   "metadata": {},
   "outputs": [],
   "source": [
    "%%script false --no-raise-error\n",
    "day = \"2023-11-12\"\n",
    "targeted_results_path = f\"results/{today}/targeted_results_encoding\"\n",
    "untargeted_results_path = f\"results/{today}/untargeted_results_encoding\"\n",
    "with open(targeted_results_path, \"rb\") as f:\n",
    "    targeted_results = pickle.load(f)\n",
    "    \n",
    "with open(untargeted_results_path, \"rb\") as f:\n",
    "    untargeted_results = pickle.load(f)"
   ]
  },
  {
   "cell_type": "code",
   "execution_count": null,
   "metadata": {},
   "outputs": [],
   "source": [
    "results_columns_names = [\"model_name\", \"pixel_count\", \"img\", \"actual_class\", \"predicted_class\", \"success\", \"cdiff\", \"prior_probs\", \"predicted_probs\", \"perturbation\"]\n",
    "untargeted_results = pd.DataFrame(untargeted_results, columns=results_columns_names)\n",
    "targeted_results = pd.DataFrame(targeted_results, columns=results_columns_names)\n",
    "untargeted_results[\"actual_class\"] = untargeted_results[\"actual_class\"].astype(int)\n",
    "untargeted_results[\"predicted_class\"] = untargeted_results[\"predicted_class\"].astype(int)\n",
    "targeted_results[\"actual_class\"] = targeted_results[\"actual_class\"].astype(int)\n",
    "targeted_results[\"predicted_class\"] = targeted_results[\"predicted_class\"].astype(int)"
   ]
  },
  {
   "cell_type": "code",
   "execution_count": null,
   "metadata": {},
   "outputs": [],
   "source": [
    "sn.reset_defaults()\n",
    "sn.set(font_scale=2)\n",
    "sn.set_style(\"whitegrid\")"
   ]
  },
  {
   "cell_type": "code",
   "execution_count": null,
   "metadata": {},
   "outputs": [],
   "source": [
    "y_test_adapted = np.reshape(a=y_test, newshape=(y_test.shape[0],))\n",
    "y_predicted_adapted = np.reshape(a=np.argmax(model(x_test), axis=1), newshape=(x_test.shape[0]))"
   ]
  },
  {
   "cell_type": "markdown",
   "metadata": {},
   "source": [
    "#### Heatmap of the prediction"
   ]
  },
  {
   "cell_type": "code",
   "execution_count": null,
   "metadata": {},
   "outputs": [],
   "source": [
    "generate_conf_matrix(classifier=model, original_labels=y_test_adapted,\n",
    "                    adversarial_labels=y_predicted_adapted, name=\"original\", \n",
    "                     class_names=class_names, today=today)"
   ]
  },
  {
   "cell_type": "code",
   "execution_count": null,
   "metadata": {
    "scrolled": true
   },
   "outputs": [],
   "source": [
    "generate_conf_matrix(classifier=model, original_labels=untargeted_results[\"actual_class\"],\n",
    "                     adversarial_labels=untargeted_results[\"predicted_class\"], name=\"untargeted\", \n",
    "                     class_names=class_names, today=today)"
   ]
  },
  {
   "cell_type": "code",
   "execution_count": null,
   "metadata": {},
   "outputs": [],
   "source": [
    "generate_conf_matrix(classifier=model, original_labels=targeted_results[\"actual_class\"],\n",
    "                     adversarial_labels=targeted_results[\"predicted_class\"], name=\"targeted\", \n",
    "                     class_names=class_names, today=today)"
   ]
  },
  {
   "cell_type": "markdown",
   "metadata": {},
   "source": [
    "#### Examples of successful perturbations"
   ]
  },
  {
   "cell_type": "code",
   "execution_count": null,
   "metadata": {},
   "outputs": [],
   "source": [
    "adv_index_untargeted = untargeted_results[untargeted_results[\"success\"] == 1].index.values.astype(int)[0]\n",
    "sample_result_img_untargeted = untargeted_results[\"img\"][adv_index_untargeted]\n",
    "adversarial_image_untargeted = perturb_image(xs=untargeted_results[\"perturbation\"][adv_index_untargeted], \n",
    "                                  img=sample_result_img_untargeted)"
   ]
  },
  {
   "cell_type": "code",
   "execution_count": null,
   "metadata": {},
   "outputs": [],
   "source": [
    "show_example_images(original_image=sample_result_img_untargeted, \n",
    "                    original_label=untargeted_results[\"actual_class\"][adv_index_untargeted], \n",
    "                    adversarial_image=adversarial_image_untargeted, \n",
    "                    adversarial_label=untargeted_results[\"predicted_class\"][adv_index_untargeted],\n",
    "                    class_names=class_names\n",
    "                   )"
   ]
  },
  {
   "cell_type": "code",
   "execution_count": null,
   "metadata": {},
   "outputs": [],
   "source": [
    "adv_index_targeted = targeted_results[targeted_results[\"success\"] == 1].index.values.astype(int)\n",
    "sample_result_img_targeted = targeted_results[\"img\"][adv_index_targeted]\n",
    "adversarial_image_targeted = perturb_image(xs=targeted_results[\"perturbation\"][adv_index_targeted], \n",
    "                                  img=sample_result_img_targeted)"
   ]
  },
  {
   "cell_type": "code",
   "execution_count": null,
   "metadata": {},
   "outputs": [],
   "source": [
    "show_example_images(original_image=sample_result_img_targeted, \n",
    "                    original_label=targeted_results[\"actual_class\"][adv_index_targeted], \n",
    "                    adversarial_image=adversarial_image_targeted, \n",
    "                    adversarial_label=targeted_results[\"predicted_class\"][adv_index_targeted],\n",
    "                    class_names=class_names\n",
    "                   )"
   ]
  },
  {
   "cell_type": "markdown",
   "metadata": {
    "id": "nOVjG9ww7cl7"
   },
   "source": [
    "#### ROC curve"
   ]
  },
  {
   "cell_type": "code",
   "execution_count": null,
   "metadata": {
    "id": "KI1zutE9lqtV"
   },
   "outputs": [],
   "source": [
    "from sklearn.metrics import RocCurveDisplay\n",
    "from sklearn.preprocessing import LabelBinarizer\n",
    "from itertools import cycle"
   ]
  },
  {
   "cell_type": "code",
   "execution_count": null,
   "metadata": {
    "scrolled": true
   },
   "outputs": [],
   "source": [
    "plot_ROC_curve(classifiers=[model], name=\"Original model\", images=x_test, labels=y_test_adapted,\n",
    "                    class_names=class_names)"
   ]
  },
  {
   "cell_type": "code",
   "execution_count": null,
   "metadata": {},
   "outputs": [],
   "source": [
    "aux = np.reshape(a=np.concatenate([x for x in untargeted_results[\"img\"].to_numpy()]), newshape=(attack_parameters['n_samples'],) + IMG_SHAPE)\n",
    "aux_pert = [x for x in untargeted_results[\"perturbation\"]]\n",
    "untargeted_perturbed_imgs = []\n",
    "for img, pert in zip(aux, aux_pert):\n",
    "    untargeted_perturbed_imgs.append(perturb_image(xs=pert, img=img))\n",
    "    \n",
    "untargeted_perturbed_imgs = np.reshape(a=np.concatenate([x for x in untargeted_perturbed_imgs]), newshape=(attack_parameters['n_samples'],) + IMG_SHAPE)"
   ]
  },
  {
   "cell_type": "code",
   "execution_count": null,
   "metadata": {},
   "outputs": [],
   "source": [
    "plot_ROC_curve(classifiers=[model], \n",
    "               name=\"Untargeted\", \n",
    "               images=untargeted_perturbed_imgs, \n",
    "               labels=untargeted_results[\"actual_class\"],\n",
    "               class_names=class_names)"
   ]
  },
  {
   "cell_type": "code",
   "execution_count": null,
   "metadata": {},
   "outputs": [],
   "source": [
    "aux = np.reshape(a=np.concatenate([x for x in targeted_results[\"img\"].to_numpy()]), newshape=(targeted_results.shape[0],) + IMG_SHAPE)\n",
    "aux_pert = [x for x in targeted_results[\"perturbation\"]]\n",
    "targeted_perturbed_imgs = []\n",
    "for img, pert in zip(aux, aux_pert):\n",
    "    targeted_perturbed_imgs.append(perturb_image(xs=pert, img=img))\n",
    "\n",
    "targeted_perturbed_imgs = np.reshape(a=np.concatenate([x for x in targeted_perturbed_imgs]), newshape=(targeted_results.shape[0],) + IMG_SHAPE)\n",
    "    \n"
   ]
  },
  {
   "cell_type": "code",
   "execution_count": null,
   "metadata": {},
   "outputs": [],
   "source": [
    "plot_ROC_curve(classifiers=[model], \n",
    "               name=\"Targeted\", \n",
    "               images=targeted_perturbed_imgs, \n",
    "               labels=targeted_results[\"actual_class\"],\n",
    "               class_names=class_names)"
   ]
  },
  {
   "cell_type": "markdown",
   "metadata": {
    "id": "BusrdTV-4WLW"
   },
   "source": [
    "#### Overall analysis"
   ]
  },
  {
   "cell_type": "markdown",
   "metadata": {
    "id": "8N9mFy8K4WUH"
   },
   "source": []
  },
  {
   "cell_type": "markdown",
   "metadata": {
    "id": "_AnsDLyN45E2"
   },
   "source": [
    "## Second part: Testing defensive measures\n",
    "\n",
    "### First method: detecting the perturbations\n",
    "We'll just use the samples from the successful test, that is, the untargeted attack one."
   ]
  },
  {
   "cell_type": "code",
   "execution_count": null,
   "metadata": {},
   "outputs": [],
   "source": [
    "autoencoder_model = tf.keras.models.load_model('models/autoencoder_model_CNN', compile=False)"
   ]
  },
  {
   "cell_type": "code",
   "execution_count": null,
   "metadata": {},
   "outputs": [],
   "source": [
    "loss = tf.keras.losses.MeanSquaredError(reduction=tf.compat.v1.losses.Reduction.NONE)"
   ]
  },
  {
   "cell_type": "code",
   "execution_count": null,
   "metadata": {},
   "outputs": [],
   "source": [
    "x_test = x_test / 255."
   ]
  },
  {
   "cell_type": "code",
   "execution_count": null,
   "metadata": {},
   "outputs": [],
   "source": [
    "reconstructed_images_original = autoencoder_model.predict(x_test)\n",
    "reconstructed_loss_original = np.sum(loss(reconstructed_images_original, x_test).numpy(), axis=(1,2))"
   ]
  },
  {
   "cell_type": "code",
   "execution_count": null,
   "metadata": {},
   "outputs": [],
   "source": [
    "untargeted_perturbed_imgs = untargeted_perturbed_imgs / 255.\n",
    "reconstructed_images_perturbed = autoencoder_model.predict(untargeted_perturbed_imgs)\n",
    "unperturbed_images = np.reshape(a=np.concatenate([x for x in untargeted_results[\"img\"].to_numpy()]), newshape=(attack_parameters['n_samples'],) + IMG_SHAPE)\n",
    "unperturbed_images = unperturbed_images / 255.\n",
    "reconstructed_loss_perturbed = np.sum(loss(reconstructed_images_perturbed, unperturbed_images).numpy(), axis=(1,2))"
   ]
  },
  {
   "cell_type": "code",
   "execution_count": null,
   "metadata": {},
   "outputs": [],
   "source": [
    "losses_distributions = {\n",
    "    'Original reconstruction loss': reconstructed_loss_original,\n",
    "    'Adversarial reconstruction loss': reconstructed_loss_perturbed,\n",
    "}"
   ]
  },
  {
   "cell_type": "code",
   "execution_count": null,
   "metadata": {},
   "outputs": [],
   "source": []
  },
  {
   "cell_type": "code",
   "execution_count": null,
   "metadata": {},
   "outputs": [],
   "source": [
    "print_distribution_boxplots(losses_distributions)"
   ]
  },
  {
   "cell_type": "markdown",
   "metadata": {
    "id": "n2mpvUa75GJm"
   },
   "source": [
    "### Second method: removing the perturbations\n",
    "We'll use a denoising autoencoder to smooth out the perturbation"
   ]
  },
  {
   "cell_type": "code",
   "execution_count": null,
   "metadata": {},
   "outputs": [],
   "source": [
    "denoising_autoencoder_model = tf.keras.models.load_model('models/autoencoder_denoising_model_CNN', compile=False)\n"
   ]
  }
 ],
 "metadata": {
  "accelerator": "GPU",
  "colab": {
   "provenance": []
  },
  "kernelspec": {
   "display_name": "Python 3 (ipykernel)",
   "language": "python",
   "name": "python3"
  },
  "language_info": {
   "codemirror_mode": {
    "name": "ipython",
    "version": 3
   },
   "file_extension": ".py",
   "mimetype": "text/x-python",
   "name": "python",
   "nbconvert_exporter": "python",
   "pygments_lexer": "ipython3",
   "version": "3.9.12"
  }
 },
 "nbformat": 4,
 "nbformat_minor": 1
}
