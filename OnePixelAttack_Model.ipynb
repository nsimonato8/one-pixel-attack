{
  "cells": [
    {
      "cell_type": "markdown",
      "metadata": {
        "id": "D0AXrzQ94sAP"
      },
      "source": [
        "###Importing libraries & models"
      ]
    },
    {
      "cell_type": "code",
      "execution_count": 1,
      "metadata": {
        "colab": {
          "base_uri": "https://localhost:8080/"
        },
        "id": "Avz6UlPEqJ3L",
        "outputId": "c8c5d856-4b57-4d09-9914-a8248fa10868"
      },
      "outputs": [
        {
          "output_type": "stream",
          "name": "stdout",
          "text": [
            "Collecting keras-tuner\n",
            "  Downloading keras_tuner-1.4.5-py3-none-any.whl (129 kB)\n",
            "\u001b[2K     \u001b[90m━━━━━━━━━━━━━━━━━━━━━━━━━━━━━━━━━━━━━━━━\u001b[0m \u001b[32m129.5/129.5 kB\u001b[0m \u001b[31m3.6 MB/s\u001b[0m eta \u001b[36m0:00:00\u001b[0m\n",
            "\u001b[?25hCollecting keras-core (from keras-tuner)\n",
            "  Downloading keras_core-0.1.7-py3-none-any.whl (950 kB)\n",
            "\u001b[2K     \u001b[90m━━━━━━━━━━━━━━━━━━━━━━━━━━━━━━━━━━━━━━━━\u001b[0m \u001b[32m950.8/950.8 kB\u001b[0m \u001b[31m11.4 MB/s\u001b[0m eta \u001b[36m0:00:00\u001b[0m\n",
            "\u001b[?25hRequirement already satisfied: packaging in /usr/local/lib/python3.10/dist-packages (from keras-tuner) (23.2)\n",
            "Requirement already satisfied: requests in /usr/local/lib/python3.10/dist-packages (from keras-tuner) (2.31.0)\n",
            "Collecting kt-legacy (from keras-tuner)\n",
            "  Downloading kt_legacy-1.0.5-py3-none-any.whl (9.6 kB)\n",
            "Requirement already satisfied: absl-py in /usr/local/lib/python3.10/dist-packages (from keras-core->keras-tuner) (1.4.0)\n",
            "Requirement already satisfied: numpy in /usr/local/lib/python3.10/dist-packages (from keras-core->keras-tuner) (1.23.5)\n",
            "Requirement already satisfied: rich in /usr/local/lib/python3.10/dist-packages (from keras-core->keras-tuner) (13.6.0)\n",
            "Collecting namex (from keras-core->keras-tuner)\n",
            "  Downloading namex-0.0.7-py3-none-any.whl (5.8 kB)\n",
            "Requirement already satisfied: h5py in /usr/local/lib/python3.10/dist-packages (from keras-core->keras-tuner) (3.9.0)\n",
            "Requirement already satisfied: dm-tree in /usr/local/lib/python3.10/dist-packages (from keras-core->keras-tuner) (0.1.8)\n",
            "Requirement already satisfied: charset-normalizer<4,>=2 in /usr/local/lib/python3.10/dist-packages (from requests->keras-tuner) (3.3.1)\n",
            "Requirement already satisfied: idna<4,>=2.5 in /usr/local/lib/python3.10/dist-packages (from requests->keras-tuner) (3.4)\n",
            "Requirement already satisfied: urllib3<3,>=1.21.1 in /usr/local/lib/python3.10/dist-packages (from requests->keras-tuner) (2.0.7)\n",
            "Requirement already satisfied: certifi>=2017.4.17 in /usr/local/lib/python3.10/dist-packages (from requests->keras-tuner) (2023.7.22)\n",
            "Requirement already satisfied: markdown-it-py>=2.2.0 in /usr/local/lib/python3.10/dist-packages (from rich->keras-core->keras-tuner) (3.0.0)\n",
            "Requirement already satisfied: pygments<3.0.0,>=2.13.0 in /usr/local/lib/python3.10/dist-packages (from rich->keras-core->keras-tuner) (2.16.1)\n",
            "Requirement already satisfied: mdurl~=0.1 in /usr/local/lib/python3.10/dist-packages (from markdown-it-py>=2.2.0->rich->keras-core->keras-tuner) (0.1.2)\n",
            "Installing collected packages: namex, kt-legacy, keras-core, keras-tuner\n",
            "Successfully installed keras-core-0.1.7 keras-tuner-1.4.5 kt-legacy-1.0.5 namex-0.0.7\n"
          ]
        }
      ],
      "source": [
        "!pip install keras-tuner"
      ]
    },
    {
      "cell_type": "code",
      "execution_count": 2,
      "metadata": {
        "colab": {
          "base_uri": "https://localhost:8080/"
        },
        "id": "axR_g7-ItxFu",
        "outputId": "0e39da2a-6cd7-4bd4-cea6-7687be3a3cb2"
      },
      "outputs": [
        {
          "output_type": "stream",
          "name": "stdout",
          "text": [
            "Using TensorFlow backend\n",
            "TensorFlow version:2.14.0\n"
          ]
        }
      ],
      "source": [
        "# Import libraries\n",
        "import matplotlib.pyplot as plt\n",
        "import numpy as np\n",
        "import pandas as pd\n",
        "import tensorflow as tf\n",
        "import keras_tuner\n",
        "from keras.applications import ResNet50, VGG16\n",
        "from keras.callbacks import EarlyStopping\n",
        "\n",
        "from sklearn.model_selection import train_test_split\n",
        "\n",
        "import pickle\n",
        "\n",
        "# Print the version of tensorflow and keras\n",
        "print(\"TensorFlow version:{}\".format(tf.__version__))"
      ]
    },
    {
      "cell_type": "markdown",
      "metadata": {
        "id": "wy8FqR-x4wj9"
      },
      "source": [
        "###Importing & Preprocessing images for testing"
      ]
    },
    {
      "cell_type": "code",
      "execution_count": 3,
      "metadata": {
        "id": "dCdTcaP5Afqf",
        "colab": {
          "base_uri": "https://localhost:8080/"
        },
        "outputId": "8c78d622-39ed-4e12-aef8-c201d34e0c96"
      },
      "outputs": [
        {
          "output_type": "stream",
          "name": "stdout",
          "text": [
            "Downloading data from https://www.cs.toronto.edu/~kriz/cifar-10-python.tar.gz\n",
            "170498071/170498071 [==============================] - 4s 0us/step\n"
          ]
        }
      ],
      "source": [
        "(x_train, y_train), (x_test, y_test) = tf.keras.datasets.cifar10.load_data()"
      ]
    },
    {
      "cell_type": "code",
      "execution_count": 4,
      "metadata": {
        "id": "LOHjxIbMfjlV"
      },
      "outputs": [],
      "source": [
        "x_train, x_val, y_train, y_val = train_test_split(x_train, y_train, test_size=0.2, random_state=12)"
      ]
    },
    {
      "cell_type": "code",
      "execution_count": 5,
      "metadata": {
        "id": "URnDKySm_Yi9"
      },
      "outputs": [],
      "source": [
        "# Helper function to preprocess the image so that it can be inputted in ResNet50\n",
        "def preprocess(image):\n",
        "  image = tf.keras.applications.resnet50.preprocess_input(image)\n",
        " #image = image[None, ...]\n",
        "  return image\n",
        "\n",
        "x_train = preprocess(x_train)\n",
        "x_val = preprocess(x_val)\n",
        "x_test = preprocess(x_test)"
      ]
    },
    {
      "cell_type": "code",
      "execution_count": null,
      "metadata": {
        "colab": {
          "base_uri": "https://localhost:8080/"
        },
        "id": "A7eoUjDCawzd",
        "outputId": "8d78657c-d3e2-45af-dc63-f09c1e3ffd6d"
      },
      "outputs": [
        {
          "data": {
            "text/plain": [
              "267"
            ]
          },
          "execution_count": 6,
          "metadata": {},
          "output_type": "execute_result"
        }
      ],
      "source": [
        "%%script false --no-raise-error\n",
        "import gc\n",
        "del x_train\n",
        "del x_val\n",
        "del y_train\n",
        "del y_val\n",
        "gc.collect()"
      ]
    },
    {
      "cell_type": "markdown",
      "source": [
        "## Models tuning"
      ],
      "metadata": {
        "id": "b3I9B4GcDE71"
      }
    },
    {
      "cell_type": "code",
      "execution_count": 6,
      "metadata": {
        "id": "JwWCgINdnyYs",
        "colab": {
          "base_uri": "https://localhost:8080/"
        },
        "outputId": "56b0e53c-ff51-43cc-fe5f-4a956885aa26"
      },
      "outputs": [
        {
          "output_type": "stream",
          "name": "stdout",
          "text": [
            "Downloading data from https://storage.googleapis.com/tensorflow/keras-applications/resnet/resnet50_weights_tf_dim_ordering_tf_kernels_notop.h5\n",
            "94765736/94765736 [==============================] - 1s 0us/step\n"
          ]
        }
      ],
      "source": [
        "model_rs50 = tf.keras.applications.ResNet50(include_top=False, weights='imagenet', input_shape=(32,32,3))\n",
        "model_rs50.trainable = False\n",
        "model_vgg16 = tf.keras.applications.VGG16(include_top=False, weights='imagenet', input_shape=(32,32,3))\n",
        "model_vgg16.trainable = False"
      ]
    },
    {
      "cell_type": "code",
      "source": [],
      "metadata": {
        "colab": {
          "base_uri": "https://localhost:8080/"
        },
        "id": "Q8HY5y6xCSH9",
        "outputId": "409d7d46-5b55-4938-d726-92805410697b"
      },
      "execution_count": 7,
      "outputs": [
        {
          "output_type": "stream",
          "name": "stdout",
          "text": [
            "Downloading data from https://storage.googleapis.com/tensorflow/keras-applications/vgg16/vgg16_weights_tf_dim_ordering_tf_kernels_notop.h5\n",
            "58889256/58889256 [==============================] - 1s 0us/step\n"
          ]
        }
      ]
    },
    {
      "cell_type": "code",
      "execution_count": 8,
      "metadata": {
        "id": "OjUFZ1Q2HbVH"
      },
      "outputs": [],
      "source": [
        "def print_images_test(images: list, titles: list, rows=1, columns=3) -> None:\n",
        "    assert len(images) == len(titles), \"'images' and 'titles' must be of the same length\"\n",
        "    assert len(images) == (columns*rows), \"The number of images and rows*columns must match\"\n",
        "    fig = plt.figure(figsize=(15, 15))\n",
        "    # ax enables access to manipulate each of subplots\n",
        "    ax = []\n",
        "\n",
        "    for i in range(columns*rows):\n",
        "        img = images[i]\n",
        "        # create subplot and append to ax\n",
        "        ax.append( fig.add_subplot(rows, columns, i+1) )\n",
        "        ax[-1].set_title(titles[i])  # set title\n",
        "        plt.imshow(img)\n",
        "\n",
        "    plt.show()  # finally, render the plot"
      ]
    },
    {
      "cell_type": "code",
      "execution_count": 11,
      "metadata": {
        "id": "brBURQwgKWQY"
      },
      "outputs": [],
      "source": [
        "def build_model_resnet(hp):\n",
        "    hp_n_neurons_1 = hp.Choice(name=\"n_neurons_1\", values=[512, 1024, 1536], default=1024)\n",
        "    hp_n_neurons_2 = hp.Choice(name=\"n_neurons_2\", values=[64, 128], default=64)\n",
        "    hp_dropout_rate_1 = hp.Choice(name=\"dropout_rate_1\", values=[0.05, 0.1, 0.15, 0.2], default=0.05)\n",
        "    hp_dropout_rate_2 = hp.Choice(name=\"dropout_rate_2\", values=[0.05, 0.1, 0.15, 0.2], default=0.05)\n",
        "    hp_act_fun_1 = hp.Choice(name=\"act_fun_1\", values=[\"relu\", \"tanh\"], default=\"relu\")\n",
        "    hp_act_fun_2 = hp.Choice(name=\"act_fun_2\", values=[\"relu\", \"tanh\"], default=\"relu\")\n",
        "    hp_learning_rate = hp.Choice(name=\"learning_rate\", values=[1e-3, 5e-4, 1e-4], default=1e-3)\n",
        "\n",
        "    model = tf.keras.Sequential()\n",
        "    model.add(model_rs50)\n",
        "    model.add(tf.keras.layers.GlobalAveragePooling2D())\n",
        "    model.add(tf.keras.layers.Dense(hp_n_neurons_1, activation=hp_act_fun_1))\n",
        "    model.add(tf.keras.layers.Dropout(hp_dropout_rate_1))\n",
        "    model.add(tf.keras.layers.Dense(hp_n_neurons_2, activation=hp_act_fun_2))\n",
        "    model.add(tf.keras.layers.Dropout(hp_dropout_rate_2))\n",
        "    model.add(tf.keras.layers.Dense(10, activation='softmax'))\n",
        "    model.compile(loss=tf.keras.losses.SparseCategoricalCrossentropy(), optimizer=tf.keras.optimizers.Adam(learning_rate=hp_learning_rate), metrics=['accuracy'])\n",
        "    return model\n",
        "\n",
        "def build_model_vgg16(hp):\n",
        "    hp_n_neurons_1 = hp.Choice(name=\"n_neurons_1\", values=[1024, 2048], default=1024)\n",
        "    hp_n_neurons_2 = hp.Choice(name=\"n_neurons_2\", values=[256, 512, 1024], default=512)\n",
        "    hp_n_neurons_3 = hp.Choice(name=\"n_neurons_3\", values=[64, 128, 192], default=128)\n",
        "    hp_dropout_rate_1 = hp.Choice(name=\"dropout_rate_1\", values=[0.05, 0.1, 0.15, 0.2], default=0.05)\n",
        "    hp_dropout_rate_2 = hp.Choice(name=\"dropout_rate_2\", values=[0.05, 0.1, 0.15, 0.2], default=0.05)\n",
        "    hp_dropout_rate_3 = hp.Choice(name=\"dropout_rate_3\", values=[0.05, 0.1, 0.15, 0.2], default=0.05)\n",
        "    hp_act_fun_1 = hp.Choice(name=\"act_fun_1\", values=[\"relu\", \"tanh\"], default=\"relu\")\n",
        "    hp_act_fun_2 = hp.Choice(name=\"act_fun_2\", values=[\"relu\", \"tanh\"], default=\"relu\")\n",
        "    hp_act_fun_3 = hp.Choice(name=\"act_fun_3\", values=[\"relu\", \"tanh\"], default=\"relu\")\n",
        "    hp_learning_rate = hp.Choice(name=\"learning_rate\", values=[1e-3, 5e-4, 1e-4], default=1e-3)\n",
        "\n",
        "    model = tf.keras.Sequential()\n",
        "    model.add(model_vgg16)\n",
        "    model.add(tf.keras.layers.GlobalAveragePooling2D())\n",
        "    model.add(tf.keras.layers.Dense(hp_n_neurons_1, activation=hp_act_fun_1))\n",
        "    model.add(tf.keras.layers.Dropout(hp_dropout_rate_1))\n",
        "    model.add(tf.keras.layers.Dense(hp_n_neurons_2, activation=hp_act_fun_2))\n",
        "    model.add(tf.keras.layers.Dropout(hp_dropout_rate_2))\n",
        "    model.add(tf.keras.layers.Dense(hp_n_neurons_3, activation=hp_act_fun_3))\n",
        "    model.add(tf.keras.layers.Dropout(hp_dropout_rate_3))\n",
        "    model.add(tf.keras.layers.Dense(10, activation='softmax'))\n",
        "    model.compile(loss=tf.keras.losses.SparseCategoricalCrossentropy(), optimizer=tf.keras.optimizers.Adam(learning_rate=hp_learning_rate), metrics=['accuracy'])\n",
        "    return model\n",
        "\n",
        "def tune_model(model_builder, val_data, train_data):\n",
        "    images_train, labels_train = train_data\n",
        "    images_val, labels_val = val_data\n",
        "    tuner = keras_tuner.BayesianOptimization(\n",
        "        model_builder,\n",
        "        objective='val_accuracy',\n",
        "        max_trials=15,\n",
        "        overwrite=True)\n",
        "    tuner.search(images_train, labels_train, epochs=5, validation_data=(images_val, labels_val))\n",
        "    return tuner.get_best_hyperparameters()[0].values"
      ]
    },
    {
      "cell_type": "code",
      "source": [
        "tune_model(model_builder=build_model_resnet, val_data=(x_val, y_val), train_data=(x_train, y_train))"
      ],
      "metadata": {
        "colab": {
          "base_uri": "https://localhost:8080/"
        },
        "id": "qkK6oncxE-8F",
        "outputId": "16e32485-af22-4ae7-9ed0-42155f7e8362"
      },
      "execution_count": 12,
      "outputs": [
        {
          "output_type": "stream",
          "name": "stdout",
          "text": [
            "Trial 15 Complete [00h 02m 27s]\n",
            "val_accuracy: 0.6787999868392944\n",
            "\n",
            "Best val_accuracy So Far: 0.6794999837875366\n",
            "Total elapsed time: 00h 33m 57s\n"
          ]
        },
        {
          "output_type": "execute_result",
          "data": {
            "text/plain": [
              "{'n_neurons_1': 1024,\n",
              " 'n_neurons_2': 128,\n",
              " 'dropout_rate_1': 0.2,\n",
              " 'dropout_rate_2': 0.05,\n",
              " 'act_fun_1': 'relu',\n",
              " 'act_fun_2': 'tanh',\n",
              " 'learning_rate': 0.0001}"
            ]
          },
          "metadata": {},
          "execution_count": 12
        }
      ]
    },
    {
      "cell_type": "code",
      "source": [
        "tune_model(model_builder=build_model_vgg16, val_data=(x_val, y_val), train_data=(x_train, y_train))"
      ],
      "metadata": {
        "colab": {
          "base_uri": "https://localhost:8080/"
        },
        "id": "RD4DqkfrE_Ey",
        "outputId": "0ff2bb6e-3759-4ce5-9528-69043c3ccd92"
      },
      "execution_count": 14,
      "outputs": [
        {
          "output_type": "stream",
          "name": "stdout",
          "text": [
            "Trial 15 Complete [00h 01m 25s]\n",
            "val_accuracy: 0.6506999731063843\n",
            "\n",
            "Best val_accuracy So Far: 0.6726999878883362\n",
            "Total elapsed time: 00h 21m 30s\n"
          ]
        },
        {
          "output_type": "execute_result",
          "data": {
            "text/plain": [
              "{'n_neurons_1': 1024,\n",
              " 'n_neurons_2': 256,\n",
              " 'n_neurons_3': 64,\n",
              " 'dropout_rate_1': 0.2,\n",
              " 'dropout_rate_2': 0.2,\n",
              " 'dropout_rate_3': 0.05,\n",
              " 'act_fun_1': 'relu',\n",
              " 'act_fun_2': 'relu',\n",
              " 'act_fun_3': 'relu',\n",
              " 'learning_rate': 0.001}"
            ]
          },
          "metadata": {},
          "execution_count": 14
        }
      ]
    },
    {
      "cell_type": "markdown",
      "metadata": {
        "id": "VopdWYIBu0EO"
      },
      "source": [
        "## ResNet50 model"
      ]
    },
    {
      "cell_type": "markdown",
      "metadata": {
        "id": "gV1PFfGZBrV3"
      },
      "source": [
        "Model idea by [kutaykutlu](https://www.kaggle.com/code/kutaykutlu/resnet50-transfer-learning-cifar-10-beginner)"
      ]
    },
    {
      "cell_type": "code",
      "execution_count": 15,
      "metadata": {
        "colab": {
          "base_uri": "https://localhost:8080/"
        },
        "id": "ut9d1Kwt-Yi2",
        "outputId": "8f188464-b235-4ef6-d1fd-fd36bf5bf044"
      },
      "outputs": [
        {
          "output_type": "stream",
          "name": "stdout",
          "text": [
            "Epoch 1/10\n",
            "313/313 - 13s - loss: 1.3523 - accuracy: 0.5505 - val_loss: 1.0664 - val_accuracy: 0.6306 - 13s/epoch - 42ms/step\n",
            "Epoch 2/10\n",
            "313/313 - 8s - loss: 1.0294 - accuracy: 0.6416 - val_loss: 0.9982 - val_accuracy: 0.6478 - 8s/epoch - 25ms/step\n",
            "Epoch 3/10\n",
            "313/313 - 7s - loss: 0.9104 - accuracy: 0.6809 - val_loss: 0.9679 - val_accuracy: 0.6621 - 7s/epoch - 21ms/step\n",
            "Epoch 4/10\n",
            "313/313 - 7s - loss: 0.8166 - accuracy: 0.7130 - val_loss: 0.9639 - val_accuracy: 0.6698 - 7s/epoch - 22ms/step\n",
            "Epoch 5/10\n",
            "313/313 - 8s - loss: 0.7326 - accuracy: 0.7408 - val_loss: 0.9736 - val_accuracy: 0.6714 - 8s/epoch - 25ms/step\n",
            "Epoch 6/10\n",
            "313/313 - 7s - loss: 0.6525 - accuracy: 0.7655 - val_loss: 0.9901 - val_accuracy: 0.6747 - 7s/epoch - 22ms/step\n",
            "Epoch 7/10\n",
            "313/313 - 8s - loss: 0.5869 - accuracy: 0.7876 - val_loss: 1.0366 - val_accuracy: 0.6748 - 8s/epoch - 25ms/step\n",
            "Epoch 8/10\n",
            "313/313 - 6s - loss: 0.5141 - accuracy: 0.8155 - val_loss: 1.0509 - val_accuracy: 0.6784 - 6s/epoch - 21ms/step\n",
            "Epoch 9/10\n",
            "313/313 - 8s - loss: 0.4552 - accuracy: 0.8350 - val_loss: 1.0936 - val_accuracy: 0.6723 - 8s/epoch - 25ms/step\n",
            "Epoch 10/10\n",
            "313/313 - 6s - loss: 0.4059 - accuracy: 0.8550 - val_loss: 1.1799 - val_accuracy: 0.6746 - 6s/epoch - 20ms/step\n"
          ]
        }
      ],
      "source": [
        "model_resnet = tf.keras.Sequential()\n",
        "model_resnet.add(model_rs50)\n",
        "model_resnet.add(tf.keras.layers.GlobalAveragePooling2D())\n",
        "model_resnet.add(tf.keras.layers.Dense(1024, activation='relu'))\n",
        "model_resnet.add(tf.keras.layers.Dropout(0.2))\n",
        "model_resnet.add(tf.keras.layers.Dense(128, activation='relu'))\n",
        "model_resnet.add(tf.keras.layers.Dropout(0.15))\n",
        "model_resnet.add(tf.keras.layers.Dense(10, activation='softmax'))\n",
        "\n",
        "model_resnet.compile(loss=tf.keras.losses.SparseCategoricalCrossentropy(), optimizer=tf.keras.optimizers.Adam(learning_rate=1e-3), metrics=['accuracy'])\n",
        "\n",
        "early_stopping = EarlyStopping(monitor=\"val_loss\", patience=7, verbose=2, restore_best_weights=False)\n",
        "\n",
        "history = model_resnet.fit(x=x_train, y=y_train, epochs=10, batch_size=128, verbose=1, validation_data=(x_val,y_val))"
      ]
    },
    {
      "cell_type": "code",
      "execution_count": 16,
      "metadata": {
        "colab": {
          "base_uri": "https://localhost:8080/"
        },
        "id": "Iu98lDF4BGQ1",
        "outputId": "e663d0e7-d605-491a-b087-b5536653bf7b"
      },
      "outputs": [
        {
          "output_type": "stream",
          "name": "stdout",
          "text": [
            "313/313 [==============================] - 4s 12ms/step - loss: 1.2117 - accuracy: 0.6683\n",
            "Test loss: 1.2116906642913818, Test accuracy: 0.6682999730110168\n"
          ]
        }
      ],
      "source": [
        "test_loss, test_accuracy = model_resnet.evaluate(x_test, y_test)\n",
        "print(f\"Test loss: {test_loss}, Test accuracy: {test_accuracy}\")"
      ]
    },
    {
      "cell_type": "code",
      "execution_count": 17,
      "metadata": {
        "colab": {
          "base_uri": "https://localhost:8080/",
          "height": 472
        },
        "id": "tYSj4NI0HDTo",
        "outputId": "12237e6e-4634-42f7-aed9-2fb3d73e1b4b"
      },
      "outputs": [
        {
          "output_type": "display_data",
          "data": {
            "text/plain": [
              "<Figure size 640x480 with 1 Axes>"
            ],
            "image/png": "[encoded data removed]"
          },
          "metadata": {}
        }
      ],
      "source": [
        "plt.plot(history.history['accuracy'])\n",
        "plt.plot(history.history['val_accuracy'])\n",
        "plt.title('model accuracy')\n",
        "plt.ylabel('accuracy')\n",
        "plt.xlabel('epoch')\n",
        "plt.legend(['train', 'val'], loc='upper left')\n",
        "plt.show()"
      ]
    },
    {
      "cell_type": "code",
      "execution_count": 18,
      "metadata": {
        "id": "Mlc3bHvtA-iX"
      },
      "outputs": [],
      "source": [
        "model_resnet.save(\"opa_model_resnet50.keras\")"
      ]
    },
    {
      "cell_type": "markdown",
      "metadata": {
        "id": "PwBf_23gGLmF"
      },
      "source": [
        "## VGG16 model"
      ]
    },
    {
      "cell_type": "code",
      "source": [
        "model_vgg = tf.keras.Sequential()\n",
        "model_vgg.add(model_vgg16)\n",
        "model_vgg.add(tf.keras.layers.GlobalAveragePooling2D())\n",
        "model_vgg.add(tf.keras.layers.Dense(1024, activation='relu'))\n",
        "model_vgg.add(tf.keras.layers.Dropout(0.05))\n",
        "model_vgg.add(tf.keras.layers.Dense(512, activation='relu'))\n",
        "model_vgg.add(tf.keras.layers.Dropout(0.05))\n",
        "model_vgg.add(tf.keras.layers.Dense(64, activation='relu'))\n",
        "model_vgg.add(tf.keras.layers.Dropout(0.05))\n",
        "model_vgg.add(tf.keras.layers.Dense(10, activation='softmax'))\n",
        "\n",
        "model_vgg.compile(loss=tf.keras.losses.SparseCategoricalCrossentropy(), optimizer=tf.keras.optimizers.Adam(learning_rate=1e-3), metrics=['accuracy'])\n",
        "\n",
        "early_stopping = EarlyStopping(monitor=\"val_loss\", patience=5, verbose=2, restore_best_weights=False)\n",
        "\n",
        "history = model_vgg.fit(x=x_train, y=y_train, epochs=10, batch_size=128, verbose=1, validation_data=(x_val,y_val))"
      ],
      "metadata": {
        "colab": {
          "base_uri": "https://localhost:8080/"
        },
        "id": "fYCvesCYGhiV",
        "outputId": "e778de27-98be-4cb4-94d3-5b446833c393"
      },
      "execution_count": 19,
      "outputs": [
        {
          "output_type": "stream",
          "name": "stdout",
          "text": [
            "Epoch 1/10\n",
            "313/313 [==============================] - 11s 25ms/step - loss: 1.7364 - accuracy: 0.4795 - val_loss: 1.1218 - val_accuracy: 0.6177\n",
            "Epoch 2/10\n",
            "313/313 [==============================] - 7s 23ms/step - loss: 1.0457 - accuracy: 0.6391 - val_loss: 1.0234 - val_accuracy: 0.6560\n",
            "Epoch 3/10\n",
            "313/313 [==============================] - 7s 22ms/step - loss: 0.8800 - accuracy: 0.6928 - val_loss: 1.0115 - val_accuracy: 0.6601\n",
            "Epoch 4/10\n",
            "313/313 [==============================] - 7s 23ms/step - loss: 0.7530 - accuracy: 0.7355 - val_loss: 1.0008 - val_accuracy: 0.6695\n",
            "Epoch 5/10\n",
            "313/313 [==============================] - 7s 22ms/step - loss: 0.6448 - accuracy: 0.7730 - val_loss: 1.0432 - val_accuracy: 0.6634\n",
            "Epoch 6/10\n",
            "313/313 [==============================] - 7s 23ms/step - loss: 0.5590 - accuracy: 0.8016 - val_loss: 1.0701 - val_accuracy: 0.6734\n",
            "Epoch 7/10\n",
            "313/313 [==============================] - 8s 26ms/step - loss: 0.4810 - accuracy: 0.8285 - val_loss: 1.1741 - val_accuracy: 0.6603\n",
            "Epoch 8/10\n",
            "313/313 [==============================] - 7s 22ms/step - loss: 0.4085 - accuracy: 0.8525 - val_loss: 1.2587 - val_accuracy: 0.6687\n",
            "Epoch 9/10\n",
            "313/313 [==============================] - 7s 22ms/step - loss: 0.3471 - accuracy: 0.8777 - val_loss: 1.3288 - val_accuracy: 0.6611\n",
            "Epoch 10/10\n",
            "313/313 [==============================] - 7s 22ms/step - loss: 0.3116 - accuracy: 0.8910 - val_loss: 1.3859 - val_accuracy: 0.6660\n"
          ]
        }
      ]
    },
    {
      "cell_type": "code",
      "source": [
        "test_loss, test_accuracy = model_vgg.evaluate(x_test, y_test)\n",
        "print(f\"Test loss: {test_loss}, Test accuracy: {test_accuracy}\")"
      ],
      "metadata": {
        "colab": {
          "base_uri": "https://localhost:8080/"
        },
        "id": "dT7PjjytHbju",
        "outputId": "aca9ffa7-4a9e-45aa-8e26-a270e8e935e0"
      },
      "execution_count": 20,
      "outputs": [
        {
          "output_type": "stream",
          "name": "stdout",
          "text": [
            "313/313 [==============================] - 3s 9ms/step - loss: 1.4536 - accuracy: 0.6563\n",
            "Test loss: 1.4536124467849731, Test accuracy: 0.6563000082969666\n"
          ]
        }
      ]
    },
    {
      "cell_type": "code",
      "source": [
        "plt.plot(history.history['accuracy'])\n",
        "plt.plot(history.history['val_accuracy'])\n",
        "plt.title('model accuracy')\n",
        "plt.ylabel('accuracy')\n",
        "plt.xlabel('epoch')\n",
        "plt.legend(['train', 'val'], loc='upper left')\n",
        "plt.show()"
      ],
      "metadata": {
        "colab": {
          "base_uri": "https://localhost:8080/",
          "height": 472
        },
        "id": "8kPpOkZUHgEd",
        "outputId": "74fb6c96-8238-41a7-e1f8-b363f1e97dd7"
      },
      "execution_count": 21,
      "outputs": [
        {
          "output_type": "display_data",
          "data": {
            "text/plain": [
              "<Figure size 640x480 with 1 Axes>"
            ],
            "image/png": "[encoded data removed]"
          },
          "metadata": {}
        }
      ]
    },
    {
      "cell_type": "code",
      "source": [
        "model_vgg.save(\"opa_model_vgg16.keras\")"
      ],
      "metadata": {
        "id": "Rw07iolfHiC8"
      },
      "execution_count": 22,
      "outputs": []
    }
  ],
  "metadata": {
    "accelerator": "GPU",
    "colab": {
      "provenance": []
    },
    "kernelspec": {
      "display_name": "Python 3",
      "name": "python3"
    },
    "language_info": {
      "name": "python"
    }
  },
  "nbformat": 4,
  "nbformat_minor": 0
}